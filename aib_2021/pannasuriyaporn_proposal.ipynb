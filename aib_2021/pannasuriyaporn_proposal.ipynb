{
 "cells": [
  {
   "cell_type": "markdown",
   "metadata": {},
   "source": [
    "# AIB Project Proposal"
   ]
  },
  {
   "cell_type": "markdown",
   "metadata": {},
   "source": [
    "Project proposal มีส่วนประกอบดังต่อไปนี้ \n",
    "\n",
    "1. **problem statement** - ปัญหาที่ต้องการแก้ด้วย machine learning\n",
    "2. **metrics** - ตัวชี้วัดความสำเร็จในการแก้ปัญหา \n",
    "3. **baselines** -วิธีแก้ปัญหาในปัจจุบัน (โดยใช้หรือไม่ใช้ machine learning) ได้ผลแค่ไหน\n",
    "4. **task formulation** - การแก้ปัญหาใช้ machine learning ประเภทใด / อะไรคือตัวแปรต้น-ตัวแปรตาม\n",
    "5. **data collection** - ชุดข้อมูลที่ต้องการ / มีชุดข้อมูลอยู่แล้วหรือต้องเก็บเพิ่มด้วยวิธีใด\n",
    "6. **expected uplifts** - คาดว่าโมเดลของเราตควรจะทำได้ดีกว่าวิธีแก้ปัญหาในปัจจุบันแค่ไหน\n",
    "7. **deployment** - จะนำโมเดลของเราไปใช้จริงได้อย่างไร\n",
    "\n",
    "พยามเขียนให้มากที่สุดเท่าที่จะทำได้ หากเขียนไม่ได้ครบให้กลับมาเติมทีหลังระหว่างทำโครงงาน"
   ]
  },
  {
   "cell_type": "markdown",
   "metadata": {},
   "source": [
    "## **problem statement** - ปัญหาที่ต้องการแก้ด้วย machine learning"
   ]
  },
  {
   "cell_type": "markdown",
   "metadata": {},
   "source": [
    "เติมคำตอบคุณใน cell นี้"
   ]
  },
  {
   "cell_type": "markdown",
   "metadata": {},
   "source": [
    "## **metrics** - ตัวชี้วัดความสำเร็จในการแก้ปัญหา "
   ]
  },
  {
   "cell_type": "markdown",
   "metadata": {},
   "source": [
    "เติมคำตอบคุณใน cell นี้"
   ]
  },
  {
   "cell_type": "markdown",
   "metadata": {},
   "source": [
    "## **baselines** -วิธีแก้ปัญหาในปัจจุบัน (โดยใช้หรือไม่ใช้ machine learning) ได้ผลแค่ไหน"
   ]
  },
  {
   "cell_type": "markdown",
   "metadata": {},
   "source": [
    "เติมคำตอบคุณใน cell นี้"
   ]
  },
  {
   "cell_type": "markdown",
   "metadata": {},
   "source": [
    "## **task formulation** - การแก้ปัญหาใช้ machine learning ประเภทใด / อะไรคือตัวแปรต้น-ตัวแปรตาม"
   ]
  },
  {
   "cell_type": "markdown",
   "metadata": {},
   "source": [
    "เติมคำตอบคุณใน cell นี้"
   ]
  },
  {
   "cell_type": "markdown",
   "metadata": {},
   "source": [
    "## **data collection** - ชุดข้อมูลที่ต้องการ / มีชุดข้อมูลอยู่แล้วหรือต้องเก็บเพิ่มด้วยวิธีใด"
   ]
  },
  {
   "cell_type": "markdown",
   "metadata": {},
   "source": [
    "เติมคำตอบคุณใน cell นี้"
   ]
  },
  {
   "cell_type": "markdown",
   "metadata": {},
   "source": [
    "## **expected uplifts** - คาดว่าโมเดลของเราตควรจะทำได้ดีกว่าวิธีแก้ปัญหาในปัจจุบันแค่ไหน"
   ]
  },
  {
   "cell_type": "markdown",
   "metadata": {},
   "source": [
    "เติมคำตอบคุณใน cell นี้"
   ]
  },
  {
   "cell_type": "markdown",
   "metadata": {},
   "source": [
    "## **deployment** - จะนำโมเดลของเราไปใช้จริงได้อย่างไร"
   ]
  },
  {
   "cell_type": "markdown",
   "metadata": {},
   "source": [
    "เติมคำตอบคุณใน cell นี้"
   ]
  },
  {
   "cell_type": "code",
   "execution_count": null,
   "metadata": {},
   "outputs": [],
   "source": []
  }
 ],
 "metadata": {
  "hide_input": false,
  "kernelspec": {
   "display_name": "Python 3",
   "language": "python",
   "name": "python3"
  },
  "language_info": {
   "codemirror_mode": {
    "name": "ipython",
    "version": 3
   },
   "file_extension": ".py",
   "mimetype": "text/x-python",
   "name": "python",
   "nbconvert_exporter": "python",
   "pygments_lexer": "ipython3",
   "version": "3.8.6"
  }
 },
 "nbformat": 4,
 "nbformat_minor": 4
}
